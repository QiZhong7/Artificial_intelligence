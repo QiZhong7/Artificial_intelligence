{
 "cells": [
  {
   "cell_type": "markdown",
   "metadata": {
    "slideshow": {
     "slide_type": "slide"
    }
   },
   "source": [
    "<h1>CS4618: Artificial Intelligence I</h1>\n",
    "<h1>Introduction</h1>\n",
    "<h2>\n",
    "    Derek Bridge<br />\n",
    "    School of Computer Science and Information Technology<br />\n",
    "    University College Cork\n",
    "</h2>"
   ]
  },
  {
   "cell_type": "markdown",
   "metadata": {
    "slideshow": {
     "slide_type": "slide"
    }
   },
   "source": [
    "<h1>What is intelligence?</h1>\n",
    "<ul>\n",
    "    <li>Some people define it in terms of outward behaviours, e.g. the <i>Turing Test</i>.</li>\n",
    "    <li>Some people define it in terms of various skills, e.g. reasoning, planning, learning, &hellip;\n",
    "        or playing chess, composing poetry, &hellip;\n",
    "        <ul>\n",
    "            <li>In particular, these people often concentrate on human skills (chess, language,...),\n",
    "                resulting in a very human-centric definition.\n",
    "            </li>\n",
    "        </ul>\n",
    "    </li>\n",
    "    <li>Here are three better definitions:\n",
    "        <ul>\n",
    "            <li>Nils J. Nilsson: \"&hellip;intelligence is that quality that enables an entity to \n",
    "                function appropriately and with foresight in its environment.\"\n",
    "            </li>\n",
    "            <li>My definition: \"A system's degree of intelligence is defined in terms of its capacity to \n",
    "                act autonomously and rationally when faced with disorder, uncertainty, imprecision and \n",
    "                intractability.\"\n",
    "            </li>\n",
    "            <li>Fran&ccedil;ois Chollet: \"The intelligence of a system is a measure of its skill-acquisition \n",
    "                efficiency over a scope of tasks, with respect to priors, experience, and generalization \n",
    "                difficulty.\"\n",
    "            </li>\n",
    "        </ul>\n",
    "    </li>\n",
    "    <li>No matter how we define it, intelligence lies on a multi-dimensional spectrum.</li>\n",
    "</ul>"
   ]
  },
  {
   "cell_type": "markdown",
   "metadata": {},
   "source": [
    "<figure style=\"text-align: center;\">\n",
    "    <img src=\"images/other_intelligences.jpg\" />\n",
    "    <figcaption>\n",
    "        Cartoon by <a href=\"https://twitter.com/FalseKnees\">False Knees</a>\n",
    "    </figcaption>\n",
    "</figure>"
   ]
  },
  {
   "cell_type": "markdown",
   "metadata": {
    "slideshow": {
     "slide_type": "slide"
    }
   },
   "source": [
    "<h1>What is AI?</h1>\n",
    "<ul>\n",
    "    <li>AI is the field that studies intelligence by trying to synthesize it.</li>\n",
    "</ul>"
   ]
  },
  {
   "cell_type": "markdown",
   "metadata": {
    "slideshow": {
     "slide_type": "slide"
    }
   },
   "source": [
    "<h1>Is AI even possible?</h1>\n",
    "<table>\n",
    "    <tr>\n",
    "        <td style=\"border: 1px solid blue; vertical-align: top; text-align: left;\">\n",
    "            <b>No</b>: there's a special and essential ingredient that can't be replicated, e.g. soul, spirit,\n",
    "            consciousness, free will, creativity, humour, &hellip;\n",
    "            <p>\n",
    "            Perhaps we can <b>simulate</b> intelligence:\n",
    "            </p>\n",
    "            <ul>\n",
    "                <li>Outwardly, systems may <em>behave as if</em> intelligent.</li>\n",
    "                <li>But the way they achieve this behaviour (the internal process) doesn't qualify as true\n",
    "                    thinking.\n",
    "                </li>\n",
    "            </ul>\n",
    "        </td>\n",
    "        <td style=\"border: 1px solid blue; vertical-align: top;\">\n",
    "            <b>Yes</b>, we can build <b>true human-like</b> intelligence.\n",
    "        </td>\n",
    "        <td style=\"border: 1px solid blue; vertical-align: top;\">\n",
    "            <b>Yes</b>, we can build true intelligences but they won't necessarily be like us.<br />\n",
    "            AI = <b>alien intelligence</b>.\n",
    "        </td>\n",
    "    </tr>\n",
    "</table>\n",
    "<ul>\n",
    "    <li>Where do you sit in this table? Or, do you have a different view?</li>\n",
    "</ul>"
   ]
  },
  {
   "cell_type": "markdown",
   "metadata": {
    "slideshow": {
     "slide_type": "slide"
    }
   },
   "source": [
    "<h1>Why do we want to build intelligent systems?</h1>\n",
    "<ul>\n",
    "    <li>The goal of most people who work in AI is to build smarter tools.</li>\n",
    "    <li>Some rough-and-ready definitions:\n",
    "        <ul>\n",
    "            <li>A <b>tool</b> is an object that a creature uses intentionally to transform another object \n",
    "                (possibly including the creature itself).\n",
    "            </li>\n",
    "            <li>A tool is only <b>useful</b> if it:\n",
    "                <ul>\n",
    "                    <li><b>increases throughput</b>: more output for the same input or less input (better use of scarce \n",
    "                        resources, including time); and/or\n",
    "                    </li>\n",
    "                    <li><b>reduces externalities</b>: fewer undesirable side-effects (e.g. less pollution, lower \n",
    "                        risks to life and limb, etc.).\n",
    "                    </li>\n",
    "                </ul>\n",
    "            </li>\n",
    "        </ul>\n",
    "    </li>\n",
    "</ul>"
   ]
  },
  {
   "cell_type": "markdown",
   "metadata": {
    "slideshow": {
     "slide_type": "slide"
    }
   },
   "source": [
    "<h2>Examples</h2>\n",
    "<ul>\n",
    "    <li>So, based on the previous definitions, why do we want to build&hellip;\n",
    "<table style=\"width: 100%;\">\n",
    "    <tr>\n",
    "        <td>&hellip;self-driving vehicles?</td><td>&hellip;intelligent news filters?</td>\n",
    "        <td>&hellip;medical diagnosis tools?</td><td>&hellip;bomb disposal robots?</td>\n",
    "    </tr>\n",
    "    <tr>\n",
    "        <td><img src=\"images/car.jpg\" /></td>\n",
    "        <td><img src=\"images/news.jpg\" /></td>\n",
    "        <td><img src=\"images/medicine.jpg\" /></td>\n",
    "        <td><img src=\"images/bomb.jpg\" /></td>\n",
    "    </tr>\n",
    "</table>\n",
    "    </li>\n",
    "     <li>All social media companies use AI. Why?\n",
    "        <div style=\"display: flex; border: 1px solid black;\">\n",
    "            <img src=\"images/google.jpg\" />\n",
    "            <img src=\"images/facebook.jpg\" />\n",
    "            <img src=\"images/spotify.jpg\" />\n",
    "            <img src=\"images/amazon.jpg\" />\n",
    "        </div>\n",
    "    </li>\n",
    "</ul>"
   ]
  },
  {
   "cell_type": "markdown",
   "metadata": {
    "slideshow": {
     "slide_type": "slide"
    }
   },
   "source": [
    "<h1>Narrow AI versus Artificial General Intelligence (AGI)</h1>\n",
    "<ul>\n",
    "    <li>Narrow AI:\n",
    "        <ul>\n",
    "            <li>We are bulding systems that are highly specialized, often for a single task in a single domain.\n",
    "            </li>\n",
    "        </ul>\n",
    "        <table>\n",
    "             <tr>\n",
    "                <td style=\"border-right-width: 0\"><img style=\"width: 200px\" src=\"images/togelius.jpg\" /></td>\n",
    "                <td style=\"border-left-width: 0\">\n",
    "                    <a href=\"http://togelius.blogspot.ie/2017/07/some-advice-for-journalists-writing.html\">\n",
    "                    Some advice for journalists writing about AI:\n",
    "                    </a><br />\n",
    "                    \"AI is a collection of methods &hellip; that can do something impressive, such as playing \n",
    "                    a game or drawing pictures of cats. However, you can safely assume that the same system \n",
    "                    cannot both play games and draw pictures of cats. &hellip; [Journalists can] make it seem \n",
    "                    like there are machines with general intelligence out there. There are not.\"\n",
    "                </td>\n",
    "            </tr>\n",
    "        </table>\n",
    "        <ul>\n",
    "            <li>For narrow AI, we are having some amazing successes, e.g. <a href=\"https://www.nature.com/articles/d41586-020-00018-3\">discovery of a new antibiotic</a>.\n",
    "            </li>\n",
    "            <li>But, equally, these narrow AI systems are surprisingly brittle.\n",
    "            </li>\n",
    "        </ul>\n",
    "    </li>\n",
    "    <li>AGI:\n",
    "        <ul>\n",
    "            <li>We are nowhere near close to achieving AGI.</li>\n",
    "            <li>In fact, we are not working on this!</li>\n",
    "        </ul>\n",
    "    </li>\n",
    "</ul>"
   ]
  },
  {
   "cell_type": "markdown",
   "metadata": {
    "slideshow": {
     "slide_type": "slide"
    }
   },
   "source": [
    "<h1>Risks</h1>\n",
    "<ul>\n",
    "    <li>Journalists are exaggerating AI success stories (narrow AI) to imply that AGI is just around the corner.\n",
    "        <ul>\n",
    "            <li>And if AGI is just around the corner, this leads observers to warn about existential risks:\n",
    "                <table style=\"width: 100%;\">\n",
    "                    <tr>\n",
    "                        <td style=\"border-right-width: 0\">\n",
    "                            <img style=\"width: 100px\" src=\"images/musk.jpg\" />\n",
    "                        </td>\n",
    "                        <td style=\"border-left-width: 0; border-right: 1px solid black;\">\n",
    "                            \"&hellip;the most serious threat to the survival of the human race&hellip;\"\n",
    "                        </td>\n",
    "                        <td style=\"border-right-width: 0\">\n",
    "                            <img style=\"width: 100px\" src=\"images/hawking.jpg\" />\n",
    "                        </td>\n",
    "                        <td style=\"border-left-width: 0\">\n",
    "                            \"The development of full artificial intelligence could spell the end of the human\n",
    "                            race&hellip;It would take off on its own, and re-design itself at an ever \n",
    "                            increasing rate.\"\n",
    "                        </td>\n",
    "                    </tr>\n",
    "                </table>\n",
    "            </li>\n",
    "            <li>People who work within the field are more realistic:\n",
    "                <table style=\"width: 100%;\">\n",
    "                    <tr>\n",
    "                        <td style=\"border-right-width: 0\">\n",
    "                            <img style=\"width: 100px\" src=\"images/ng.jpg\" />\n",
    "                        </td>\n",
    "                        <td style=\"border-left-width: 0\">\n",
    "                            \"I don’t work on not turning AI evil today for the same reason I don't worry \n",
    "                            about the problem of overpopulation on the planet Mars.\"\n",
    "                        </td>\n",
    "                    </tr>\n",
    "                </table>\n",
    "            </li>\n",
    "        </ul>\n",
    "    </li>\n",
    "    <li>The real risks:\n",
    "        <ul>\n",
    "            <li>The real risks include the following: lack of explainability; fragility; bias and data quality; \n",
    "                fakes; high energy costs; military uses; unemployment; surveillance by government agencies;\n",
    "                surveillance by big tech; &hellip;\n",
    "            </li>\n",
    "            <li>Let's briefly look at one: fragility. The problem is not that AI is too good. \n",
    "                The problem is that AI is not good enough.\n",
    "                <figure style=\"width: 100%; border: 1px solid black;\" >\n",
    "                    <img src=\"images/adv1.png\" /><br />\n",
    "                    <img src=\"images/adv2.png\" />\n",
    "                </figure>\n",
    "            </li>\n",
    "            <li>People are more and more thinking about our responsibilities in this field, e.g.:\n",
    "                <a href=\"https://ec.europa.eu/futurium/en/ai-alliance-consultation\">\n",
    "                Ethics Guidelines for Trustworthy AI\n",
    "                </a>\n",
    "            </li>\n",
    "        </ul>\n",
    "    </li>\n",
    "</ul>"
   ]
  },
  {
   "cell_type": "code",
   "execution_count": null,
   "metadata": {},
   "outputs": [],
   "source": []
  }
 ],
 "metadata": {
  "celltoolbar": "Slideshow",
  "kernelspec": {
   "display_name": "Python 3 (ipykernel)",
   "language": "python",
   "name": "python3"
  },
  "language_info": {
   "codemirror_mode": {
    "name": "ipython",
    "version": 3
   },
   "file_extension": ".py",
   "mimetype": "text/x-python",
   "name": "python",
   "nbconvert_exporter": "python",
   "pygments_lexer": "ipython3",
   "version": "3.8.5"
  }
 },
 "nbformat": 4,
 "nbformat_minor": 1
}
